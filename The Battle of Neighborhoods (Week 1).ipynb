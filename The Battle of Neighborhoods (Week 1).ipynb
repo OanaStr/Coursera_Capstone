{
    "nbformat_minor": 1, 
    "cells": [
        {
            "source": "# Capstone Project - The Battle of Neighborhoods (Week 1)", 
            "cell_type": "markdown", 
            "metadata": {
                "collapsed": true
            }
        }, 
        {
            "source": " **_How to choose the best hotel in Paris and nearby areas?_**", 
            "cell_type": "markdown", 
            "metadata": {}
        }, 
        {
            "source": "## I. Business Problem Section", 
            "cell_type": "markdown", 
            "metadata": {}
        }, 
        {
            "source": "### Introduction", 
            "cell_type": "markdown", 
            "metadata": {}
        }, 
        {
            "source": "Being one of the world capitals of arts, culture, gastronomy and fashion, millions of travelers visit Paris each year to explore the city's cultural attractions, such as: The Eiffel Tower, Mus\u00e9e du Louvre, Cath\u00e9drale Notre-Dame de Paris, Avenue des Champs-\u00c9lys\u00e9es, Disneyland, Palace of Versailles, Mus\u00e9e d'Orsay and so on. There are a lot of travel agencies that offer various deals on flights, hotel stays and rental cars. Also, there are people who prefer not to work with a travel agency and who want to plan the holiday on their own. \n\nIf someone wants to travel there are many things to consider from choosing the right location, accomodation, flights, rental cars to attractions, restaurants, stores and other facilities. \n\nTherefore, the main idea is that in both cases, on their own and with a travel agency, it is necessary to have a list of recommendations and criteria of choosing the optimal one. So, a good idea would we to develop one aplication that incorporate a lot of machine learning techniques and leverage the Foursquare location data in order to cluster different cities neighborhoods, in our case Paris, to recommend venues and to support people who are looking for the right hotel to take the best decisions.", 
            "cell_type": "markdown", 
            "metadata": {}
        }, 
        {
            "source": "### Business Problem", 
            "cell_type": "markdown", 
            "metadata": {}
        }, 
        {
            "source": "In this scenario, the business problem I am trying to solve is: How could I provide support to different stakeholders (people or tourism agencies) in choosing the best accomodation? Where would I recommend that is the best place to stay?\n\nTo solve this business problem, we will use Foursquare location data and we will create machine learning models to cluster Paris neighborhoods in order to recommend profitable hotels based on different surrounding facilities such as venues, restaurants, stores, attractions and so on.\n\nThrough these models the stakeholders will have a wide range of recommentations for accomodation, they will know all the facitilies to enjoy on vacation, will receive a wide range of options and, in this way, they will know exactly what hotel is the most suitable for them.", 
            "cell_type": "markdown", 
            "metadata": {}
        }, 
        {
            "source": "## II. Data Section", 
            "cell_type": "markdown", 
            "metadata": {}
        }, 
        {
            "source": "To perform this idea, it was used data from 2 different sources. Data about hotels from Paris and nearby areas was taken from: https://www.accorhotels.com. It was collected information related to postal code, name of the hotel, address and it was integrated into a database which contain 40 observations about 40 hotels from Paris and nearby areas. For a better analysis it was selected data about hotels from different areas and with different facilities.\n\nThe second source used is Foursquare location data in order to explore and target recommended locations across different venues. Everything was arranged into a pandas dataframe for exploration, visualization and modeling.\n\nThe final database which combine Foursquare location data and Paris + nearby areas hotels data, will be used to develop our machine learning models and to cluster Paris + nearby areas neighborhoods in order to provide the best recommendations in choosing a hotel based on a wide range of surrounding facilities.", 
            "cell_type": "markdown", 
            "metadata": {}
        }, 
        {
            "source": "import numpy as np # library to handle data in a vectorized manner\n\nimport pandas as pd # library for data analsysis\npd.set_option('display.max_columns', None)\npd.set_option('display.max_rows', None)\n\nimport json # library to handle JSON files\n\n!conda install -c conda-forge geopy --yes # uncomment this line if you haven't completed the Foursquare API lab\nfrom geopy.geocoders import Nominatim # convert an address into latitude and longitude values\n\nimport requests # library to handle requests\nfrom pandas.io.json import json_normalize # tranform JSON file into a pandas dataframe\n\n# Matplotlib and associated plotting modules\nimport matplotlib.cm as cm\nimport matplotlib.colors as colors\n\n# import k-means from clustering stage\nfrom sklearn.cluster import KMeans\n\n!conda install -c conda-forge folium=0.5.0 --yes # uncomment this line if you haven't completed the Foursquare API lab\nimport folium # map rendering library\n\nprint('Libraries imported.')", 
            "cell_type": "code", 
            "metadata": {}, 
            "outputs": [
                {
                    "output_type": "stream", 
                    "name": "stdout", 
                    "text": "Fetching package metadata .............\nSolving package specifications: .\n\n# All requested packages already installed.\n# packages in environment at /opt/conda/envs/DSX-Python35:\n#\ngeopy                     1.18.1                     py_0    conda-forge\nFetching package metadata .............\nSolving package specifications: .\n\nPackage plan for installation in environment /opt/conda/envs/DSX-Python35:\n\nThe following NEW packages will be INSTALLED:\n\n    altair:  2.2.2-py35_1 conda-forge\n    branca:  0.3.1-py_0   conda-forge\n    folium:  0.5.0-py_0   conda-forge\n    vincent: 0.4.4-py_1   conda-forge\n\naltair-2.2.2-p 100% |################################| Time: 0:00:00  36.07 MB/s\nbranca-0.3.1-p 100% |################################| Time: 0:00:00  32.88 MB/s\nvincent-0.4.4- 100% |################################| Time: 0:00:00  38.51 MB/s\nfolium-0.5.0-p 100% |################################| Time: 0:00:00  46.43 MB/s\nLibraries imported.\n"
                }
            ], 
            "execution_count": 9
        }, 
        {
            "source": "# Read the data (Source: www.accorhotels.com)\nhotels = pd.read_csv('https://raw.githubusercontent.com/OanaStr/Coursera_Capstone/master/Hotels.csv',encoding = \"ISO-8859-1\")\nhotels.head(5)", 
            "cell_type": "code", 
            "metadata": {}, 
            "outputs": [
                {
                    "output_type": "execute_result", 
                    "data": {
                        "text/html": "<div>\n<style scoped>\n    .dataframe tbody tr th:only-of-type {\n        vertical-align: middle;\n    }\n\n    .dataframe tbody tr th {\n        vertical-align: top;\n    }\n\n    .dataframe thead th {\n        text-align: right;\n    }\n</style>\n<table border=\"1\" class=\"dataframe\">\n  <thead>\n    <tr style=\"text-align: right;\">\n      <th></th>\n      <th>PostalCode</th>\n      <th>Hotel_Name</th>\n      <th>Address</th>\n    </tr>\n  </thead>\n  <tbody>\n    <tr>\n      <th>0</th>\n      <td>75008</td>\n      <td>Mercure Paris Opera Garnier Hotel</td>\n      <td>4 rue de l 'Isly</td>\n    </tr>\n    <tr>\n      <th>1</th>\n      <td>75009</td>\n      <td>Scribe Paris Op\u00e9ra by Sofitel</td>\n      <td>1 rue Scribe</td>\n    </tr>\n    <tr>\n      <th>2</th>\n      <td>75017</td>\n      <td>Mercure Paris St Lazare Monceau hotel</td>\n      <td>99 bis Rue de Rome</td>\n    </tr>\n    <tr>\n      <th>3</th>\n      <td>75002</td>\n      <td>H\u00f4tel Stendhal Place Vend\u00f4me Paris - MGallery ...</td>\n      <td>22 rue Danielle Casanova</td>\n    </tr>\n    <tr>\n      <th>4</th>\n      <td>75018</td>\n      <td>Mercure Paris Montmartre Sacr\u00e9-Coeur Hotel</td>\n      <td>3 rue Caulaincourt</td>\n    </tr>\n  </tbody>\n</table>\n</div>", 
                        "text/plain": "   PostalCode                                         Hotel_Name  \\\n0       75008                  Mercure Paris Opera Garnier Hotel   \n1       75009                      Scribe Paris Op\u00e9ra by Sofitel   \n2       75017              Mercure Paris St Lazare Monceau hotel   \n3       75002  H\u00f4tel Stendhal Place Vend\u00f4me Paris - MGallery ...   \n4       75018         Mercure Paris Montmartre Sacr\u00e9-Coeur Hotel   \n\n                    Address  \n0          4 rue de l 'Isly  \n1              1 rue Scribe  \n2        99 bis Rue de Rome  \n3  22 rue Danielle Casanova  \n4        3 rue Caulaincourt  "
                    }, 
                    "execution_count": 10, 
                    "metadata": {}
                }
            ], 
            "execution_count": 10
        }, 
        {
            "source": "hotels.shape", 
            "cell_type": "code", 
            "metadata": {}, 
            "outputs": [
                {
                    "output_type": "execute_result", 
                    "data": {
                        "text/plain": "(40, 3)"
                    }, 
                    "execution_count": 11, 
                    "metadata": {}
                }
            ], 
            "execution_count": 11
        }, 
        {
            "source": "address = 'Paris, FR'\ngeolocator = Nominatim(user_agent=\"p_explorer\")\nlocation = geolocator.geocode(address)\nlatitude = location.latitude\nlongitude = location.longitude\nprint('The geograpical coordinate of Paris are {}, {}.'.format(latitude, longitude))", 
            "cell_type": "code", 
            "metadata": {}, 
            "outputs": [
                {
                    "output_type": "stream", 
                    "name": "stdout", 
                    "text": "The geograpical coordinate of Paris are 48.8566101, 2.3514992.\n"
                }
            ], 
            "execution_count": 12
        }, 
        {
            "source": "geolocator = Nominatim(user_agent=\"my-application\")\nhotels['city_coord'] = hotels['PostalCode'].apply(geolocator.geocode).apply(lambda x: (x.latitude, x.longitude))\nhotels.head(5)", 
            "cell_type": "code", 
            "metadata": {}, 
            "outputs": [
                {
                    "output_type": "execute_result", 
                    "data": {
                        "text/html": "<div>\n<style scoped>\n    .dataframe tbody tr th:only-of-type {\n        vertical-align: middle;\n    }\n\n    .dataframe tbody tr th {\n        vertical-align: top;\n    }\n\n    .dataframe thead th {\n        text-align: right;\n    }\n</style>\n<table border=\"1\" class=\"dataframe\">\n  <thead>\n    <tr style=\"text-align: right;\">\n      <th></th>\n      <th>PostalCode</th>\n      <th>Hotel_Name</th>\n      <th>Address</th>\n      <th>Latitude</th>\n      <th>Longitude</th>\n      <th>city_coord</th>\n    </tr>\n  </thead>\n  <tbody>\n    <tr>\n      <th>0</th>\n      <td>75008</td>\n      <td>Mercure Paris Opera Garnier Hotel</td>\n      <td>4 rue de l 'Isly</td>\n      <td>48.873601</td>\n      <td>2.307613</td>\n      <td>(48.87360115, 2.30761301337209)</td>\n    </tr>\n    <tr>\n      <th>1</th>\n      <td>75009</td>\n      <td>Scribe Paris Op\u00e9ra by Sofitel</td>\n      <td>1 rue Scribe</td>\n      <td>48.877510</td>\n      <td>2.336875</td>\n      <td>(48.8775101429297, 2.33687546379827)</td>\n    </tr>\n    <tr>\n      <th>2</th>\n      <td>75017</td>\n      <td>Mercure Paris St Lazare Monceau hotel</td>\n      <td>99 bis Rue de Rome</td>\n      <td>48.883574</td>\n      <td>2.304989</td>\n      <td>(48.8835744925048, 2.30498942147319)</td>\n    </tr>\n    <tr>\n      <th>3</th>\n      <td>75002</td>\n      <td>H\u00f4tel Stendhal Place Vend\u00f4me Paris - MGallery ...</td>\n      <td>22 rue Danielle Casanova</td>\n      <td>48.867317</td>\n      <td>2.344443</td>\n      <td>(48.8673173622243, 2.34444344701296)</td>\n    </tr>\n    <tr>\n      <th>4</th>\n      <td>75018</td>\n      <td>Mercure Paris Montmartre Sacr\u00e9-Coeur Hotel</td>\n      <td>3 rue Caulaincourt</td>\n      <td>48.890080</td>\n      <td>2.349840</td>\n      <td>(48.8900799653822, 2.34984008370641)</td>\n    </tr>\n  </tbody>\n</table>\n</div>", 
                        "text/plain": "   PostalCode                                         Hotel_Name  \\\n0       75008                  Mercure Paris Opera Garnier Hotel   \n1       75009                      Scribe Paris Op\u00e9ra by Sofitel   \n2       75017              Mercure Paris St Lazare Monceau hotel   \n3       75002  H\u00f4tel Stendhal Place Vend\u00f4me Paris - MGallery ...   \n4       75018         Mercure Paris Montmartre Sacr\u00e9-Coeur Hotel   \n\n                    Address   Latitude  Longitude  \\\n0          4 rue de l 'Isly  48.873601   2.307613   \n1              1 rue Scribe  48.877510   2.336875   \n2        99 bis Rue de Rome  48.883574   2.304989   \n3  22 rue Danielle Casanova  48.867317   2.344443   \n4        3 rue Caulaincourt  48.890080   2.349840   \n\n                             city_coord  \n0       (48.87360115, 2.30761301337209)  \n1  (48.8775101429297, 2.33687546379827)  \n2  (48.8835744925048, 2.30498942147319)  \n3  (48.8673173622243, 2.34444344701296)  \n4  (48.8900799653822, 2.34984008370641)  "
                    }, 
                    "execution_count": 19, 
                    "metadata": {}
                }
            ], 
            "execution_count": 19
        }, 
        {
            "source": "hotels[['Latitude', 'Longitude']] = hotels['city_coord'].apply(pd.Series)", 
            "cell_type": "code", 
            "metadata": {}, 
            "outputs": [], 
            "execution_count": 20
        }, 
        {
            "source": "hotels = hotels.drop(columns=['city_coord'])", 
            "cell_type": "code", 
            "metadata": {}, 
            "outputs": [], 
            "execution_count": 21
        }, 
        {
            "source": "hotels.head(5)", 
            "cell_type": "code", 
            "metadata": {}, 
            "outputs": [
                {
                    "output_type": "execute_result", 
                    "data": {
                        "text/html": "<div>\n<style scoped>\n    .dataframe tbody tr th:only-of-type {\n        vertical-align: middle;\n    }\n\n    .dataframe tbody tr th {\n        vertical-align: top;\n    }\n\n    .dataframe thead th {\n        text-align: right;\n    }\n</style>\n<table border=\"1\" class=\"dataframe\">\n  <thead>\n    <tr style=\"text-align: right;\">\n      <th></th>\n      <th>PostalCode</th>\n      <th>Hotel_Name</th>\n      <th>Address</th>\n      <th>Latitude</th>\n      <th>Longitude</th>\n    </tr>\n  </thead>\n  <tbody>\n    <tr>\n      <th>0</th>\n      <td>75008</td>\n      <td>Mercure Paris Opera Garnier Hotel</td>\n      <td>4 rue de l 'Isly</td>\n      <td>48.873601</td>\n      <td>2.307613</td>\n    </tr>\n    <tr>\n      <th>1</th>\n      <td>75009</td>\n      <td>Scribe Paris Op\u00e9ra by Sofitel</td>\n      <td>1 rue Scribe</td>\n      <td>48.877510</td>\n      <td>2.336875</td>\n    </tr>\n    <tr>\n      <th>2</th>\n      <td>75017</td>\n      <td>Mercure Paris St Lazare Monceau hotel</td>\n      <td>99 bis Rue de Rome</td>\n      <td>48.883574</td>\n      <td>2.304989</td>\n    </tr>\n    <tr>\n      <th>3</th>\n      <td>75002</td>\n      <td>H\u00f4tel Stendhal Place Vend\u00f4me Paris - MGallery ...</td>\n      <td>22 rue Danielle Casanova</td>\n      <td>48.867317</td>\n      <td>2.344443</td>\n    </tr>\n    <tr>\n      <th>4</th>\n      <td>75018</td>\n      <td>Mercure Paris Montmartre Sacr\u00e9-Coeur Hotel</td>\n      <td>3 rue Caulaincourt</td>\n      <td>48.890080</td>\n      <td>2.349840</td>\n    </tr>\n  </tbody>\n</table>\n</div>", 
                        "text/plain": "   PostalCode                                         Hotel_Name  \\\n0       75008                  Mercure Paris Opera Garnier Hotel   \n1       75009                      Scribe Paris Op\u00e9ra by Sofitel   \n2       75017              Mercure Paris St Lazare Monceau hotel   \n3       75002  H\u00f4tel Stendhal Place Vend\u00f4me Paris - MGallery ...   \n4       75018         Mercure Paris Montmartre Sacr\u00e9-Coeur Hotel   \n\n                    Address   Latitude  Longitude  \n0          4 rue de l 'Isly  48.873601   2.307613  \n1              1 rue Scribe  48.877510   2.336875  \n2        99 bis Rue de Rome  48.883574   2.304989  \n3  22 rue Danielle Casanova  48.867317   2.344443  \n4        3 rue Caulaincourt  48.890080   2.349840  "
                    }, 
                    "execution_count": 22, 
                    "metadata": {}
                }
            ], 
            "execution_count": 22
        }, 
        {
            "source": "", 
            "cell_type": "code", 
            "metadata": {}, 
            "outputs": [], 
            "execution_count": null
        }
    ], 
    "metadata": {
        "kernelspec": {
            "display_name": "Python 3.5", 
            "name": "python3", 
            "language": "python"
        }, 
        "language_info": {
            "mimetype": "text/x-python", 
            "nbconvert_exporter": "python", 
            "version": "3.5.5", 
            "name": "python", 
            "file_extension": ".py", 
            "pygments_lexer": "ipython3", 
            "codemirror_mode": {
                "version": 3, 
                "name": "ipython"
            }
        }
    }, 
    "nbformat": 4
}